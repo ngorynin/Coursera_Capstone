{
    "cells": [
        {
            "cell_type": "markdown",
            "metadata": {
                "collapsed": true
            },
            "source": "<h1>Comparing the neighborhoods between Saint Petersburg and Berlin<h1>"
        },
        {
            "cell_type": "markdown",
            "metadata": {},
            "source": "<ol>\n <h2><li> Introduction </li></h2>\n    \n People nowadays relocate a lot and when choosing to live in a different city or even a country, they may want to live in a neighbourhood somewhat familiar to one they currently live in terms of venues they have around. Someone who enjoys living in a quite place with a park and sport complex nearby might want to live in a neighborhood with a similar vibe, yet in another city or even a country. \n Thus, it will be convenient for people willing to relocate, to compare the neighborhoods of the city they are going to with neighborhoods of the city they currently live in - service, providing such help, might be included in a bigger mapping/navigation platform or exist independantly\n The present notebook is an example of comparison between the neighborhoods of two cities, namely Saint Petersburg and Berlin - both have a status of cultural and educational capitals of their corresponding countries and are similar in metropolitan population and average population density (~6 200 000 inh. and ~4 000 inh./km^2 respectively)    \n <h2><li> Data gathering </li></h2>\n    \nData, used for the project, consists of:\n<ol type=\"A\">\n<h3><li>Name, population and area of each neighborhood for both cities, taken from Wikipedia: </li></h3>\n<ul>\n<li>For Saint Petersburg:<a href=\"https://ru.wikipedia.org/wiki/%D0%90%D0%B4%D0%BC%D0%B8%D0%BD%D0%B8%D1%81%D1%82%D1%80%D0%B0%D1%82%D0%B8%D0%B2%D0%BD%D0%BE-%D1%82%D0%B5%D1%80%D1%80%D0%B8%D1%82%D0%BE%D1%80%D0%B8%D0%B0%D0%BB%D1%8C%D0%BD%D0%BE%D0%B5_%D0%B4%D0%B5%D0%BB%D0%B5%D0%BD%D0%B8%D0%B5_%D0%A1%D0%B0%D0%BD%D0%BA%D1%82-%D0%9F%D0%B5%D1%82%D0%B5%D1%80%D0%B1%D1%83%D1%80%D0%B3%D0%B0\">Wiki page for Saint Petersburg</a> </li>\n<li>For Berlin:<a href=\"https://en.wikipedia.org/wiki/Boroughs_and_neighborhoods_of_Berlin\">Wiki page for Berlin</a> </li>\n</ul>\n<h3><li>Foursquare data on venues in each neighborhood, gathered using Foursquare API </li></h3>\n</ol>\n</ol>"
        },
        {
            "cell_type": "code",
            "execution_count": null,
            "metadata": {},
            "outputs": [],
            "source": ""
        }
    ],
    "metadata": {
        "kernelspec": {
            "display_name": "Python 3.6",
            "language": "python",
            "name": "python3"
        },
        "language_info": {
            "codemirror_mode": {
                "name": "ipython",
                "version": 3
            },
            "file_extension": ".py",
            "mimetype": "text/x-python",
            "name": "python",
            "nbconvert_exporter": "python",
            "pygments_lexer": "ipython3",
            "version": "3.6.9"
        }
    },
    "nbformat": 4,
    "nbformat_minor": 1
}